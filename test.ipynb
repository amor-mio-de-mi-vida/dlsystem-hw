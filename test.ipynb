{
 "cells": [
  {
   "cell_type": "code",
   "id": "initial_id",
   "metadata": {
    "collapsed": true,
    "ExecuteTime": {
     "end_time": "2024-11-03T07:13:54.382767Z",
     "start_time": "2024-11-03T07:13:54.379187Z"
    }
   },
   "source": [
    "import numpy as array_api\n",
    "\n",
    "A = array_api.random.randn(6, 6, 5, 4)\n",
    "B = array_api.random.randn(6, 6, 4, 5)\n",
    "\n",
    "out = array_api.ones((5, 5))"
   ],
   "outputs": [],
   "execution_count": 13
  },
  {
   "metadata": {
    "ExecuteTime": {
     "end_time": "2024-11-03T07:00:47.170201Z",
     "start_time": "2024-11-03T07:00:47.166181Z"
    }
   },
   "cell_type": "code",
   "source": "out.shape",
   "id": "8f3d604a1cce6df9",
   "outputs": [
    {
     "data": {
      "text/plain": [
       "(5, 5)"
      ]
     },
     "execution_count": 9,
     "metadata": {},
     "output_type": "execute_result"
    }
   ],
   "execution_count": 9
  },
  {
   "metadata": {
    "ExecuteTime": {
     "end_time": "2024-11-03T07:13:56.582337Z",
     "start_time": "2024-11-03T07:13:56.578736Z"
    }
   },
   "cell_type": "code",
   "source": [
    "C = array_api.matmul(A, B)\n",
    "print(C.shape)"
   ],
   "id": "e6fec288d8df251d",
   "outputs": [
    {
     "name": "stdout",
     "output_type": "stream",
     "text": [
      "(6, 6, 5, 5)\n"
     ]
    }
   ],
   "execution_count": 14
  },
  {
   "metadata": {
    "ExecuteTime": {
     "end_time": "2024-11-03T07:19:29.195928Z",
     "start_time": "2024-11-03T07:19:29.192341Z"
    }
   },
   "cell_type": "code",
   "source": [
    "def matmul(A, B):\n",
    "    assert len(A.shape) == 2 , \"A 应该是二维张量\"\n",
    "    assert len(B.shape) == 2 , \"B 应该是二维张量\"\n",
    "    assert A.shape[1] == B.shape[0] \n",
    "    m = A.shape[0]\n",
    "    n = B.shape[0]\n",
    "    k = B.shape[1]\n",
    "    C = array_api.zeros((m, k))\n",
    "    for i in range(m):\n",
    "        for j in range(k):\n",
    "            for p in range(n):\n",
    "                C[i][j] += A[i][p] * B[p][j]\n",
    "    return C"
   ],
   "id": "15d16b6cd97782f3",
   "outputs": [],
   "execution_count": 24
  },
  {
   "metadata": {
    "ExecuteTime": {
     "end_time": "2024-11-03T07:26:18.160002Z",
     "start_time": "2024-11-03T07:26:18.156616Z"
    }
   },
   "cell_type": "code",
   "source": [
    "A_ = A.reshape(-1, A.shape[-1])\n",
    "print(A_.shape)\n",
    "B_ = B.reshape(-1, B.shape[-2])\n",
    "print(B_.shape)\n"
   ],
   "id": "b65d57bc933211f4",
   "outputs": [
    {
     "name": "stdout",
     "output_type": "stream",
     "text": [
      "(180, 4)\n",
      "(180, 4)\n"
     ]
    }
   ],
   "execution_count": 29
  },
  {
   "metadata": {},
   "cell_type": "code",
   "outputs": [],
   "execution_count": null,
   "source": "",
   "id": "3a8b019f3bd5224b"
  },
  {
   "metadata": {
    "ExecuteTime": {
     "end_time": "2024-11-03T07:32:25.116101Z",
     "start_time": "2024-11-03T07:32:25.087148Z"
    }
   },
   "cell_type": "code",
   "source": "matmul(A_, B_).shape",
   "id": "f0166407314d5967",
   "outputs": [
    {
     "ename": "AssertionError",
     "evalue": "",
     "output_type": "error",
     "traceback": [
      "\u001B[1;31m---------------------------------------------------------------------------\u001B[0m",
      "\u001B[1;31mAssertionError\u001B[0m                            Traceback (most recent call last)",
      "Cell \u001B[1;32mIn[30], line 1\u001B[0m\n\u001B[1;32m----> 1\u001B[0m matmul(A_, B_)\u001B[38;5;241m.\u001B[39mshape\n",
      "Cell \u001B[1;32mIn[24], line 2\u001B[0m, in \u001B[0;36mmatmul\u001B[1;34m(A, B)\u001B[0m\n\u001B[0;32m      1\u001B[0m \u001B[38;5;28;01mdef\u001B[39;00m \u001B[38;5;21mmatmul\u001B[39m(A, B):\n\u001B[1;32m----> 2\u001B[0m     \u001B[38;5;28;01massert\u001B[39;00m A\u001B[38;5;241m.\u001B[39mshape[\u001B[38;5;241m1\u001B[39m] \u001B[38;5;241m==\u001B[39m B\u001B[38;5;241m.\u001B[39mshape[\u001B[38;5;241m0\u001B[39m]\n\u001B[0;32m      3\u001B[0m     \u001B[38;5;28;01massert\u001B[39;00m \u001B[38;5;28mlen\u001B[39m(A\u001B[38;5;241m.\u001B[39mshape) \u001B[38;5;241m==\u001B[39m \u001B[38;5;241m2\u001B[39m , \u001B[38;5;124m\"\u001B[39m\u001B[38;5;124mA 应该是二维张量\u001B[39m\u001B[38;5;124m\"\u001B[39m\n\u001B[0;32m      4\u001B[0m     \u001B[38;5;28;01massert\u001B[39;00m \u001B[38;5;28mlen\u001B[39m(B\u001B[38;5;241m.\u001B[39mshape) \u001B[38;5;241m==\u001B[39m \u001B[38;5;241m2\u001B[39m , \u001B[38;5;124m\"\u001B[39m\u001B[38;5;124mB 应该是二维张量\u001B[39m\u001B[38;5;124m\"\u001B[39m\n",
      "\u001B[1;31mAssertionError\u001B[0m: "
     ]
    }
   ],
   "execution_count": 30
  },
  {
   "metadata": {},
   "cell_type": "code",
   "outputs": [],
   "execution_count": null,
   "source": "",
   "id": "3abcb0b53a128a6"
  }
 ],
 "metadata": {
  "kernelspec": {
   "display_name": "Python 3",
   "language": "python",
   "name": "python3"
  },
  "language_info": {
   "codemirror_mode": {
    "name": "ipython",
    "version": 2
   },
   "file_extension": ".py",
   "mimetype": "text/x-python",
   "name": "python",
   "nbconvert_exporter": "python",
   "pygments_lexer": "ipython2",
   "version": "2.7.6"
  }
 },
 "nbformat": 4,
 "nbformat_minor": 5
}

{
 "cells": [
  {
   "cell_type": "code",
   "id": "initial_id",
   "metadata": {
    "collapsed": true,
    "ExecuteTime": {
     "end_time": "2024-10-28T07:07:05.244117Z",
     "start_time": "2024-10-28T07:07:05.240957Z"
    }
   },
   "source": "import numpy as np",
   "outputs": [],
   "execution_count": 6
  },
  {
   "metadata": {
    "ExecuteTime": {
     "end_time": "2024-10-28T07:07:06.351330Z",
     "start_time": "2024-10-28T07:07:06.347659Z"
    }
   },
   "cell_type": "code",
   "source": [
    "batch_size = 5\n",
    "num_of_class = 3\n",
    "x = np.random.randint(0, 10, (batch_size, num_of_class))\n",
    "y = np.random.randint(0, num_of_class, batch_size)"
   ],
   "id": "9f62b56bd76b03bc",
   "outputs": [],
   "execution_count": 7
  },
  {
   "metadata": {
    "ExecuteTime": {
     "end_time": "2024-10-28T07:08:45.487975Z",
     "start_time": "2024-10-28T07:08:45.482250Z"
    }
   },
   "cell_type": "code",
   "source": "print(x)",
   "id": "acd9f81e95d38b32",
   "outputs": [
    {
     "name": "stdout",
     "output_type": "stream",
     "text": [
      "[[1 8 8]\n",
      " [5 3 6]\n",
      " [8 4 6]\n",
      " [2 6 5]\n",
      " [7 2 1]]\n"
     ]
    }
   ],
   "execution_count": 10
  },
  {
   "metadata": {
    "ExecuteTime": {
     "end_time": "2024-10-28T07:08:55.555370Z",
     "start_time": "2024-10-28T07:08:55.550245Z"
    }
   },
   "cell_type": "code",
   "source": "print(y)",
   "id": "214c3262c5a77531",
   "outputs": [
    {
     "name": "stdout",
     "output_type": "stream",
     "text": [
      "[0 1 0 0 0]\n"
     ]
    }
   ],
   "execution_count": 11
  },
  {
   "metadata": {
    "ExecuteTime": {
     "end_time": "2024-10-28T07:22:43.919204Z",
     "start_time": "2024-10-28T07:22:43.905006Z"
    }
   },
   "cell_type": "code",
   "source": [
    "z = x[np.arange(batch_size), y]\n",
    "print(z)\n",
    "print(z.sum())"
   ],
   "id": "d2f64558fbbbf603",
   "outputs": [
    {
     "name": "stdout",
     "output_type": "stream",
     "text": [
      "[1 3 8 2 7]\n",
      "21\n"
     ]
    }
   ],
   "execution_count": 24
  },
  {
   "metadata": {
    "ExecuteTime": {
     "end_time": "2024-10-28T07:21:25.371206Z",
     "start_time": "2024-10-28T07:21:25.367681Z"
    }
   },
   "cell_type": "code",
   "source": "print(z)",
   "id": "dafdf9c28b1f0c93",
   "outputs": [
    {
     "name": "stdout",
     "output_type": "stream",
     "text": [
      "[1 3 8 2 7]\n"
     ]
    }
   ],
   "execution_count": 20
  },
  {
   "metadata": {
    "ExecuteTime": {
     "end_time": "2024-10-28T07:13:27.897159Z",
     "start_time": "2024-10-28T07:13:27.881722Z"
    }
   },
   "cell_type": "code",
   "source": "x.sum(axis=1)\n",
   "id": "5c1edc55d9126cc2",
   "outputs": [
    {
     "data": {
      "text/plain": [
       "array([17, 14, 18, 13, 10])"
      ]
     },
     "execution_count": 16,
     "metadata": {},
     "output_type": "execute_result"
    }
   ],
   "execution_count": 16
  },
  {
   "metadata": {
    "ExecuteTime": {
     "end_time": "2024-10-28T08:39:56.531528Z",
     "start_time": "2024-10-28T08:39:56.522821Z"
    }
   },
   "cell_type": "code",
   "source": [
    "num_classes = 10\n",
    "num_examples = 2"
   ],
   "id": "75afb81d2b8f2089",
   "outputs": [],
   "execution_count": 30
  },
  {
   "metadata": {
    "ExecuteTime": {
     "end_time": "2024-10-28T08:39:57.420735Z",
     "start_time": "2024-10-28T08:39:57.415217Z"
    }
   },
   "cell_type": "code",
   "source": "y = np.array([0, 2])",
   "id": "96af1c50ba12339e",
   "outputs": [],
   "execution_count": 31
  },
  {
   "metadata": {
    "ExecuteTime": {
     "end_time": "2024-10-28T08:39:58.543405Z",
     "start_time": "2024-10-28T08:39:58.536406Z"
    }
   },
   "cell_type": "code",
   "source": "Iy = np.eye(num_classes)[y]",
   "id": "40b09d29eb60bf84",
   "outputs": [],
   "execution_count": 32
  },
  {
   "metadata": {
    "ExecuteTime": {
     "end_time": "2024-10-28T08:39:59.367483Z",
     "start_time": "2024-10-28T08:39:59.358633Z"
    }
   },
   "cell_type": "code",
   "source": "Iy",
   "id": "d25a78d2e2a4ae7e",
   "outputs": [
    {
     "data": {
      "text/plain": [
       "array([[1., 0., 0., 0., 0., 0., 0., 0., 0., 0.],\n",
       "       [0., 0., 1., 0., 0., 0., 0., 0., 0., 0.]])"
      ]
     },
     "execution_count": 33,
     "metadata": {},
     "output_type": "execute_result"
    }
   ],
   "execution_count": 33
  },
  {
   "metadata": {},
   "cell_type": "code",
   "outputs": [],
   "execution_count": null,
   "source": [
    "    iterations = (y.size + batch - 1) // batch\n",
    "    for i in range(iterations):\n",
    "        X = X[i*batch:(i+1)*batch, :]\n",
    "        y = y[i*batch:(i+1)*batch]\n",
    "        _, num_classes = theta.shape\n",
    "        Z = np.exp(X @ theta) / np.exp(X @ theta).sum(axis=1, keepdims=True)\n",
    "        Iy = np.eye(num_classes)[y]\n",
    "        grad = X.transpose() @ (Z - Iy)\n",
    "        theta -= lr * grad / batch"
   ],
   "id": "f04df1fae393a2e1"
  }
 ],
 "metadata": {
  "kernelspec": {
   "display_name": "Python 3",
   "language": "python",
   "name": "python3"
  },
  "language_info": {
   "codemirror_mode": {
    "name": "ipython",
    "version": 2
   },
   "file_extension": ".py",
   "mimetype": "text/x-python",
   "name": "python",
   "nbconvert_exporter": "python",
   "pygments_lexer": "ipython2",
   "version": "2.7.6"
  }
 },
 "nbformat": 4,
 "nbformat_minor": 5
}
